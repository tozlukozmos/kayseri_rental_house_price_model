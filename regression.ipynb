{
 "cells": [
  {
   "cell_type": "code",
   "execution_count": 3,
   "metadata": {
    "_cell_guid": "b1076dfc-b9ad-4769-8c92-a6c4dae69d19",
    "_uuid": "8f2839f25d086af736a60e9eeb907d3b93b6e0e5",
    "execution": {
     "iopub.execute_input": "2025-01-04T11:56:05.249791Z",
     "iopub.status.busy": "2025-01-04T11:56:05.249412Z",
     "iopub.status.idle": "2025-01-04T11:56:05.266215Z",
     "shell.execute_reply": "2025-01-04T11:56:05.264492Z",
     "shell.execute_reply.started": "2025-01-04T11:56:05.249761Z"
    },
    "trusted": true
   },
   "outputs": [],
   "source": [
    "import numpy as np\n",
    "import pandas as pd"
   ]
  },
  {
   "cell_type": "code",
   "execution_count": 4,
   "metadata": {
    "execution": {
     "iopub.execute_input": "2025-01-04T11:56:05.267998Z",
     "iopub.status.busy": "2025-01-04T11:56:05.267607Z",
     "iopub.status.idle": "2025-01-04T11:56:05.304277Z",
     "shell.execute_reply": "2025-01-04T11:56:05.303033Z",
     "shell.execute_reply.started": "2025-01-04T11:56:05.267968Z"
    },
    "trusted": true
   },
   "outputs": [],
   "source": [
    "df = pd.read_csv('./data/cleaned_data.csv')"
   ]
  },
  {
   "cell_type": "code",
   "execution_count": 5,
   "metadata": {
    "execution": {
     "iopub.execute_input": "2025-01-04T11:56:05.306554Z",
     "iopub.status.busy": "2025-01-04T11:56:05.306265Z",
     "iopub.status.idle": "2025-01-04T11:56:05.318764Z",
     "shell.execute_reply": "2025-01-04T11:56:05.317560Z",
     "shell.execute_reply.started": "2025-01-04T11:56:05.306530Z"
    },
    "trusted": true
   },
   "outputs": [],
   "source": [
    "replace_dict = {\n",
    "    'Kot 2': '-2. Kat',\n",
    "    'Kot 1': '-1. Kat',\n",
    "    'Yüksek Giriş': '1. Kat',\n",
    "    'Ara Kat': '3. Kat',\n",
    "    'En Üst Kat': '5. Kat',\n",
    "    'Bahçe Katı': '0. Kat',\n",
    "    'Yarı Bodrum': '0. Kat',\n",
    "    'Bodrum': '0. Kat',\n",
    "    'Kot 3': '-3. Kat',\n",
    "    'Çatı Katı': '5. Kat',\n",
    "    'Zemin': '0. Kat',\n",
    "    'Giriş Katı': '0. Kat',\n",
    "    'Villa Katı': '0. Kat',\n",
    "    '21 ve üzeri': '21. Kat',\n",
    "    'Bodrum ve Zemin': '0. Kat',\n",
    "    'Asma Kat': '1. Kat',\n",
    "    'Tripleks': '0. Kat',\n",
    "    'Teras Katı': '5. Kat',\n",
    "    'nan': '2. Kat',\n",
    "}\n",
    "\n",
    "df['floor'] = df['floor'].replace(replace_dict.keys(), replace_dict.values()).astype(str)\n",
    "# df['floor'] = df['floor'].apply(lambda x: x.split('.')[0]).astype(int)"
   ]
  },
  {
   "cell_type": "code",
   "execution_count": 6,
   "metadata": {
    "execution": {
     "iopub.execute_input": "2025-01-04T11:56:05.321164Z",
     "iopub.status.busy": "2025-01-04T11:56:05.320701Z",
     "iopub.status.idle": "2025-01-04T11:56:05.350268Z",
     "shell.execute_reply": "2025-01-04T11:56:05.348777Z",
     "shell.execute_reply.started": "2025-01-04T11:56:05.321119Z"
    },
    "trusted": true
   },
   "outputs": [
    {
     "name": "stdout",
     "output_type": "stream",
     "text": [
      "Column: price, min: 5000.0, max: 21000.0\n",
      "Column: room, min: 0.5, max: 4.5\n",
      "Column: living_room, min: 1.0, max: 1.0\n",
      "Column: area, min: 45.0, max: 245.0\n",
      "Column: age, min: -20.0, max: 36.0\n"
     ]
    }
   ],
   "source": [
    "columns = df.select_dtypes(include=[np.number]).columns\n",
    "min_values = []\n",
    "max_values = []\n",
    "for column in columns:\n",
    "    Q1 = df[column].quantile(0.25)\n",
    "    Q3 = df[column].quantile(0.75)\n",
    "    IQR = Q3 - Q1\n",
    "    min_value = Q1 - 1.5 * IQR\n",
    "    max_value = Q3 + 1.5 * IQR\n",
    "    min_values.append(min_value)\n",
    "    max_values.append(max_value)\n",
    "    print(f\"Column: {column}, min: {min_value}, max: {max_value}\")\n",
    "\n",
    "# source: https://github.com/canbula/KiraTahmini/blob/master/istatistiksel_inceleme.ipynb"
   ]
  },
  {
   "cell_type": "code",
   "execution_count": 7,
   "metadata": {
    "execution": {
     "iopub.execute_input": "2025-01-04T11:56:05.352023Z",
     "iopub.status.busy": "2025-01-04T11:56:05.351656Z",
     "iopub.status.idle": "2025-01-04T11:56:05.363775Z",
     "shell.execute_reply": "2025-01-04T11:56:05.362437Z",
     "shell.execute_reply.started": "2025-01-04T11:56:05.351973Z"
    },
    "trusted": true
   },
   "outputs": [],
   "source": [
    "for i, column in enumerate(columns):\n",
    "    df = df[(df[column] >= min_values[i]) & (df[column] <= max_values[i])]\n",
    "\n",
    "# source: https://github.com/canbula/KiraTahmini/blob/master/istatistiksel_inceleme.ipynb"
   ]
  },
  {
   "cell_type": "code",
   "execution_count": 8,
   "metadata": {
    "execution": {
     "iopub.execute_input": "2025-01-04T11:56:05.365315Z",
     "iopub.status.busy": "2025-01-04T11:56:05.364908Z",
     "iopub.status.idle": "2025-01-04T11:56:05.402278Z",
     "shell.execute_reply": "2025-01-04T11:56:05.400891Z",
     "shell.execute_reply.started": "2025-01-04T11:56:05.365274Z"
    },
    "trusted": true
   },
   "outputs": [
    {
     "data": {
      "text/html": [
       "<div>\n",
       "<style scoped>\n",
       "    .dataframe tbody tr th:only-of-type {\n",
       "        vertical-align: middle;\n",
       "    }\n",
       "\n",
       "    .dataframe tbody tr th {\n",
       "        vertical-align: top;\n",
       "    }\n",
       "\n",
       "    .dataframe thead th {\n",
       "        text-align: right;\n",
       "    }\n",
       "</style>\n",
       "<table border=\"1\" class=\"dataframe\">\n",
       "  <thead>\n",
       "    <tr style=\"text-align: right;\">\n",
       "      <th></th>\n",
       "      <th>price</th>\n",
       "      <th>room</th>\n",
       "      <th>living_room</th>\n",
       "      <th>area</th>\n",
       "      <th>age</th>\n",
       "    </tr>\n",
       "  </thead>\n",
       "  <tbody>\n",
       "    <tr>\n",
       "      <th>count</th>\n",
       "      <td>1154.000000</td>\n",
       "      <td>1154.000000</td>\n",
       "      <td>1154.0</td>\n",
       "      <td>1154.000000</td>\n",
       "      <td>1154.000000</td>\n",
       "    </tr>\n",
       "    <tr>\n",
       "      <th>mean</th>\n",
       "      <td>12908.461005</td>\n",
       "      <td>2.721837</td>\n",
       "      <td>1.0</td>\n",
       "      <td>140.672444</td>\n",
       "      <td>9.433276</td>\n",
       "    </tr>\n",
       "    <tr>\n",
       "      <th>std</th>\n",
       "      <td>3109.757986</td>\n",
       "      <td>0.696734</td>\n",
       "      <td>0.0</td>\n",
       "      <td>35.084537</td>\n",
       "      <td>8.980241</td>\n",
       "    </tr>\n",
       "    <tr>\n",
       "      <th>min</th>\n",
       "      <td>5000.000000</td>\n",
       "      <td>1.000000</td>\n",
       "      <td>1.0</td>\n",
       "      <td>50.000000</td>\n",
       "      <td>0.000000</td>\n",
       "    </tr>\n",
       "    <tr>\n",
       "      <th>25%</th>\n",
       "      <td>11000.000000</td>\n",
       "      <td>2.000000</td>\n",
       "      <td>1.0</td>\n",
       "      <td>120.000000</td>\n",
       "      <td>2.000000</td>\n",
       "    </tr>\n",
       "    <tr>\n",
       "      <th>50%</th>\n",
       "      <td>13000.000000</td>\n",
       "      <td>3.000000</td>\n",
       "      <td>1.0</td>\n",
       "      <td>145.000000</td>\n",
       "      <td>6.000000</td>\n",
       "    </tr>\n",
       "    <tr>\n",
       "      <th>75%</th>\n",
       "      <td>15000.000000</td>\n",
       "      <td>3.000000</td>\n",
       "      <td>1.0</td>\n",
       "      <td>165.000000</td>\n",
       "      <td>15.000000</td>\n",
       "    </tr>\n",
       "    <tr>\n",
       "      <th>max</th>\n",
       "      <td>21000.000000</td>\n",
       "      <td>4.000000</td>\n",
       "      <td>1.0</td>\n",
       "      <td>240.000000</td>\n",
       "      <td>35.000000</td>\n",
       "    </tr>\n",
       "  </tbody>\n",
       "</table>\n",
       "</div>"
      ],
      "text/plain": [
       "              price         room  living_room         area          age\n",
       "count   1154.000000  1154.000000       1154.0  1154.000000  1154.000000\n",
       "mean   12908.461005     2.721837          1.0   140.672444     9.433276\n",
       "std     3109.757986     0.696734          0.0    35.084537     8.980241\n",
       "min     5000.000000     1.000000          1.0    50.000000     0.000000\n",
       "25%    11000.000000     2.000000          1.0   120.000000     2.000000\n",
       "50%    13000.000000     3.000000          1.0   145.000000     6.000000\n",
       "75%    15000.000000     3.000000          1.0   165.000000    15.000000\n",
       "max    21000.000000     4.000000          1.0   240.000000    35.000000"
      ]
     },
     "execution_count": 8,
     "metadata": {},
     "output_type": "execute_result"
    }
   ],
   "source": [
    "# df = df[df['price'] >= 3000]\n",
    "df.describe()"
   ]
  },
  {
   "cell_type": "code",
   "execution_count": 9,
   "metadata": {
    "execution": {
     "iopub.execute_input": "2025-01-04T11:56:05.403730Z",
     "iopub.status.busy": "2025-01-04T11:56:05.403361Z",
     "iopub.status.idle": "2025-01-04T11:56:05.409251Z",
     "shell.execute_reply": "2025-01-04T11:56:05.408027Z",
     "shell.execute_reply.started": "2025-01-04T11:56:05.403702Z"
    },
    "trusted": true
   },
   "outputs": [],
   "source": [
    "from sklearn.model_selection import train_test_split\n",
    "from sklearn.pipeline import Pipeline\n",
    "from sklearn.preprocessing import StandardScaler, OneHotEncoder, OrdinalEncoder\n",
    "from sklearn.compose import ColumnTransformer\n",
    "from sklearn.linear_model import LinearRegression\n",
    "from sklearn.ensemble import RandomForestRegressor, GradientBoostingRegressor\n",
    "from sklearn.metrics import mean_squared_error\n",
    "from sklearn.metrics import r2_score"
   ]
  },
  {
   "cell_type": "code",
   "execution_count": 10,
   "metadata": {
    "execution": {
     "iopub.execute_input": "2025-01-04T11:56:05.412439Z",
     "iopub.status.busy": "2025-01-04T11:56:05.412151Z",
     "iopub.status.idle": "2025-01-04T11:56:05.436652Z",
     "shell.execute_reply": "2025-01-04T11:56:05.435132Z",
     "shell.execute_reply.started": "2025-01-04T11:56:05.412415Z"
    },
    "trusted": true
   },
   "outputs": [
    {
     "name": "stdout",
     "output_type": "stream",
     "text": [
      "<class 'pandas.core.frame.DataFrame'>\n",
      "Index: 1154 entries, 1 to 1300\n",
      "Data columns (total 8 columns):\n",
      " #   Column        Non-Null Count  Dtype \n",
      "---  ------        --------------  ----- \n",
      " 0   price         1154 non-null   int64 \n",
      " 1   room          1154 non-null   int64 \n",
      " 2   living_room   1154 non-null   int64 \n",
      " 3   area          1154 non-null   int64 \n",
      " 4   age           1154 non-null   int64 \n",
      " 5   floor         1154 non-null   object\n",
      " 6   district      1154 non-null   object\n",
      " 7   neighborhood  1154 non-null   object\n",
      "dtypes: int64(5), object(3)\n",
      "memory usage: 81.1+ KB\n"
     ]
    }
   ],
   "source": [
    "df.info()"
   ]
  },
  {
   "cell_type": "code",
   "execution_count": 11,
   "metadata": {
    "execution": {
     "iopub.execute_input": "2025-01-04T11:56:05.438831Z",
     "iopub.status.busy": "2025-01-04T11:56:05.438514Z",
     "iopub.status.idle": "2025-01-04T11:56:05.462223Z",
     "shell.execute_reply": "2025-01-04T11:56:05.460702Z",
     "shell.execute_reply.started": "2025-01-04T11:56:05.438803Z"
    },
    "trusted": true
   },
   "outputs": [],
   "source": [
    "df['district'] = df['district'].astype('category')\n",
    "df['neighborhood'] = df['neighborhood'].astype('category')\n",
    "df['room'] = df['room'].astype('int')\n",
    "df['living_room'] = df['living_room'].astype('int')\n",
    "df['area'] = df['area'].astype('int')\n",
    "df['age'] = df['age'].astype('int')\n",
    "df['floor'] = df['floor'].astype('category')\n",
    "df['price'] = df['price'].astype('int')"
   ]
  },
  {
   "cell_type": "code",
   "execution_count": 12,
   "metadata": {
    "execution": {
     "iopub.execute_input": "2025-01-04T11:56:05.463958Z",
     "iopub.status.busy": "2025-01-04T11:56:05.463507Z",
     "iopub.status.idle": "2025-01-04T11:56:05.470052Z",
     "shell.execute_reply": "2025-01-04T11:56:05.468919Z",
     "shell.execute_reply.started": "2025-01-04T11:56:05.463910Z"
    },
    "trusted": true
   },
   "outputs": [],
   "source": [
    "categorical_features = ['district', 'neighborhood', 'floor']\n",
    "numerical_features = ['room', 'living_room', 'area', 'age']"
   ]
  },
  {
   "cell_type": "code",
   "execution_count": 13,
   "metadata": {
    "execution": {
     "iopub.execute_input": "2025-01-04T11:56:05.471575Z",
     "iopub.status.busy": "2025-01-04T11:56:05.471287Z",
     "iopub.status.idle": "2025-01-04T11:56:05.491119Z",
     "shell.execute_reply": "2025-01-04T11:56:05.489627Z",
     "shell.execute_reply.started": "2025-01-04T11:56:05.471549Z"
    },
    "trusted": true
   },
   "outputs": [],
   "source": [
    "full_pipeline = ColumnTransformer([\n",
    "    ('num', StandardScaler(), numerical_features),\n",
    "    ('cat', OneHotEncoder(handle_unknown='ignore'), categorical_features),\n",
    "])"
   ]
  },
  {
   "cell_type": "code",
   "execution_count": 14,
   "metadata": {
    "execution": {
     "iopub.execute_input": "2025-01-04T11:56:05.492648Z",
     "iopub.status.busy": "2025-01-04T11:56:05.492314Z",
     "iopub.status.idle": "2025-01-04T11:56:05.511489Z",
     "shell.execute_reply": "2025-01-04T11:56:05.509979Z",
     "shell.execute_reply.started": "2025-01-04T11:56:05.492612Z"
    },
    "trusted": true
   },
   "outputs": [],
   "source": [
    "X = df.drop('price', axis=1)\n",
    "y = df['price']"
   ]
  },
  {
   "cell_type": "code",
   "execution_count": 15,
   "metadata": {
    "execution": {
     "iopub.execute_input": "2025-01-04T11:56:05.512893Z",
     "iopub.status.busy": "2025-01-04T11:56:05.512603Z",
     "iopub.status.idle": "2025-01-04T11:56:05.537098Z",
     "shell.execute_reply": "2025-01-04T11:56:05.535646Z",
     "shell.execute_reply.started": "2025-01-04T11:56:05.512860Z"
    },
    "trusted": true
   },
   "outputs": [],
   "source": [
    "X_train, X_test, y_train, y_test = train_test_split(X, y, test_size=0.2, random_state=42)"
   ]
  },
  {
   "cell_type": "code",
   "execution_count": 16,
   "metadata": {
    "execution": {
     "iopub.execute_input": "2025-01-04T12:12:12.171048Z",
     "iopub.status.busy": "2025-01-04T12:12:12.170589Z",
     "iopub.status.idle": "2025-01-04T12:22:08.016327Z",
     "shell.execute_reply": "2025-01-04T12:22:08.015167Z",
     "shell.execute_reply.started": "2025-01-04T12:12:12.170987Z"
    },
    "trusted": true
   },
   "outputs": [],
   "source": [
    "# from sklearn.model_selection import GridSearchCV\n",
    "\n",
    "# # Define hyperparameter grid\n",
    "# param_grid = {\n",
    "#     'model__n_estimators': [100, 200, 400, 600],\n",
    "#     'model__max_depth': [3, 5, 7],\n",
    "#     'model__min_samples_split': [2, 5, 10],\n",
    "#     'model__learning_rate': [0.01, 0.05, 0.1, 0.2],\n",
    "#     'model__loss': ['squared_error', 'absolute_error']\n",
    "# }\n",
    "\n",
    "# # Set up pipeline and GridSearchCV\n",
    "# model = Pipeline([\n",
    "#     ('preparation', full_pipeline),\n",
    "#     ('model', GradientBoostingRegressor(random_state=42))\n",
    "# ])\n",
    "\n",
    "# grid_search = GridSearchCV(\n",
    "#     estimator=model,\n",
    "#     param_grid=param_grid,\n",
    "#     scoring='r2',  # Optimize for r^2\n",
    "#     cv=5,\n",
    "#     verbose=2,\n",
    "#     n_jobs=-1\n",
    "# )\n",
    "\n",
    "# # Fit GridSearchCV\n",
    "# grid_search.fit(X_train, y_train)\n",
    "\n",
    "# # Print best parameters and score\n",
    "# print(\"Best Parameters:\", grid_search.best_params_)\n",
    "# print(\"Best Score:\", grid_search.best_score_)\n",
    "\n",
    "# # Use the best model for predictions\n",
    "# best_model = grid_search.best_estimator_"
   ]
  },
  {
   "cell_type": "code",
   "execution_count": 17,
   "metadata": {
    "execution": {
     "iopub.execute_input": "2025-01-04T12:55:06.908960Z",
     "iopub.status.busy": "2025-01-04T12:55:06.908564Z",
     "iopub.status.idle": "2025-01-04T12:55:06.914368Z",
     "shell.execute_reply": "2025-01-04T12:55:06.913139Z",
     "shell.execute_reply.started": "2025-01-04T12:55:06.908925Z"
    },
    "trusted": true
   },
   "outputs": [],
   "source": [
    "model = Pipeline([\n",
    "    ('preparation', full_pipeline),\n",
    "    # ('model', LinearRegression())\n",
    "    # ('model', GradientBoostingRegressor(n_estimators=400, max_depth=5, min_samples_split=2, learning_rate=0.1, loss='squared_error'))\n",
    "    # ('model', GradientBoostingRegressor(n_estimators=100, max_depth=3, min_samples_split=10, learning_rate=0.2, loss='squared_error'))\n",
    "    ('model', GradientBoostingRegressor(n_estimators=600, max_depth=7, min_samples_split=10, learning_rate=0.01, loss='squared_error'))\n",
    "    # ('model', RandomForestRegressor(random_state=1))\n",
    "])"
   ]
  },
  {
   "cell_type": "code",
   "execution_count": 18,
   "metadata": {
    "execution": {
     "iopub.execute_input": "2025-01-04T12:55:09.263074Z",
     "iopub.status.busy": "2025-01-04T12:55:09.262678Z",
     "iopub.status.idle": "2025-01-04T12:55:10.903213Z",
     "shell.execute_reply": "2025-01-04T12:55:10.901974Z",
     "shell.execute_reply.started": "2025-01-04T12:55:09.262994Z"
    },
    "trusted": true
   },
   "outputs": [
    {
     "data": {
      "text/html": [
       "<style>#sk-container-id-1 {\n",
       "  /* Definition of color scheme common for light and dark mode */\n",
       "  --sklearn-color-text: #000;\n",
       "  --sklearn-color-text-muted: #666;\n",
       "  --sklearn-color-line: gray;\n",
       "  /* Definition of color scheme for unfitted estimators */\n",
       "  --sklearn-color-unfitted-level-0: #fff5e6;\n",
       "  --sklearn-color-unfitted-level-1: #f6e4d2;\n",
       "  --sklearn-color-unfitted-level-2: #ffe0b3;\n",
       "  --sklearn-color-unfitted-level-3: chocolate;\n",
       "  /* Definition of color scheme for fitted estimators */\n",
       "  --sklearn-color-fitted-level-0: #f0f8ff;\n",
       "  --sklearn-color-fitted-level-1: #d4ebff;\n",
       "  --sklearn-color-fitted-level-2: #b3dbfd;\n",
       "  --sklearn-color-fitted-level-3: cornflowerblue;\n",
       "\n",
       "  /* Specific color for light theme */\n",
       "  --sklearn-color-text-on-default-background: var(--sg-text-color, var(--theme-code-foreground, var(--jp-content-font-color1, black)));\n",
       "  --sklearn-color-background: var(--sg-background-color, var(--theme-background, var(--jp-layout-color0, white)));\n",
       "  --sklearn-color-border-box: var(--sg-text-color, var(--theme-code-foreground, var(--jp-content-font-color1, black)));\n",
       "  --sklearn-color-icon: #696969;\n",
       "\n",
       "  @media (prefers-color-scheme: dark) {\n",
       "    /* Redefinition of color scheme for dark theme */\n",
       "    --sklearn-color-text-on-default-background: var(--sg-text-color, var(--theme-code-foreground, var(--jp-content-font-color1, white)));\n",
       "    --sklearn-color-background: var(--sg-background-color, var(--theme-background, var(--jp-layout-color0, #111)));\n",
       "    --sklearn-color-border-box: var(--sg-text-color, var(--theme-code-foreground, var(--jp-content-font-color1, white)));\n",
       "    --sklearn-color-icon: #878787;\n",
       "  }\n",
       "}\n",
       "\n",
       "#sk-container-id-1 {\n",
       "  color: var(--sklearn-color-text);\n",
       "}\n",
       "\n",
       "#sk-container-id-1 pre {\n",
       "  padding: 0;\n",
       "}\n",
       "\n",
       "#sk-container-id-1 input.sk-hidden--visually {\n",
       "  border: 0;\n",
       "  clip: rect(1px 1px 1px 1px);\n",
       "  clip: rect(1px, 1px, 1px, 1px);\n",
       "  height: 1px;\n",
       "  margin: -1px;\n",
       "  overflow: hidden;\n",
       "  padding: 0;\n",
       "  position: absolute;\n",
       "  width: 1px;\n",
       "}\n",
       "\n",
       "#sk-container-id-1 div.sk-dashed-wrapped {\n",
       "  border: 1px dashed var(--sklearn-color-line);\n",
       "  margin: 0 0.4em 0.5em 0.4em;\n",
       "  box-sizing: border-box;\n",
       "  padding-bottom: 0.4em;\n",
       "  background-color: var(--sklearn-color-background);\n",
       "}\n",
       "\n",
       "#sk-container-id-1 div.sk-container {\n",
       "  /* jupyter's `normalize.less` sets `[hidden] { display: none; }`\n",
       "     but bootstrap.min.css set `[hidden] { display: none !important; }`\n",
       "     so we also need the `!important` here to be able to override the\n",
       "     default hidden behavior on the sphinx rendered scikit-learn.org.\n",
       "     See: https://github.com/scikit-learn/scikit-learn/issues/21755 */\n",
       "  display: inline-block !important;\n",
       "  position: relative;\n",
       "}\n",
       "\n",
       "#sk-container-id-1 div.sk-text-repr-fallback {\n",
       "  display: none;\n",
       "}\n",
       "\n",
       "div.sk-parallel-item,\n",
       "div.sk-serial,\n",
       "div.sk-item {\n",
       "  /* draw centered vertical line to link estimators */\n",
       "  background-image: linear-gradient(var(--sklearn-color-text-on-default-background), var(--sklearn-color-text-on-default-background));\n",
       "  background-size: 2px 100%;\n",
       "  background-repeat: no-repeat;\n",
       "  background-position: center center;\n",
       "}\n",
       "\n",
       "/* Parallel-specific style estimator block */\n",
       "\n",
       "#sk-container-id-1 div.sk-parallel-item::after {\n",
       "  content: \"\";\n",
       "  width: 100%;\n",
       "  border-bottom: 2px solid var(--sklearn-color-text-on-default-background);\n",
       "  flex-grow: 1;\n",
       "}\n",
       "\n",
       "#sk-container-id-1 div.sk-parallel {\n",
       "  display: flex;\n",
       "  align-items: stretch;\n",
       "  justify-content: center;\n",
       "  background-color: var(--sklearn-color-background);\n",
       "  position: relative;\n",
       "}\n",
       "\n",
       "#sk-container-id-1 div.sk-parallel-item {\n",
       "  display: flex;\n",
       "  flex-direction: column;\n",
       "}\n",
       "\n",
       "#sk-container-id-1 div.sk-parallel-item:first-child::after {\n",
       "  align-self: flex-end;\n",
       "  width: 50%;\n",
       "}\n",
       "\n",
       "#sk-container-id-1 div.sk-parallel-item:last-child::after {\n",
       "  align-self: flex-start;\n",
       "  width: 50%;\n",
       "}\n",
       "\n",
       "#sk-container-id-1 div.sk-parallel-item:only-child::after {\n",
       "  width: 0;\n",
       "}\n",
       "\n",
       "/* Serial-specific style estimator block */\n",
       "\n",
       "#sk-container-id-1 div.sk-serial {\n",
       "  display: flex;\n",
       "  flex-direction: column;\n",
       "  align-items: center;\n",
       "  background-color: var(--sklearn-color-background);\n",
       "  padding-right: 1em;\n",
       "  padding-left: 1em;\n",
       "}\n",
       "\n",
       "\n",
       "/* Toggleable style: style used for estimator/Pipeline/ColumnTransformer box that is\n",
       "clickable and can be expanded/collapsed.\n",
       "- Pipeline and ColumnTransformer use this feature and define the default style\n",
       "- Estimators will overwrite some part of the style using the `sk-estimator` class\n",
       "*/\n",
       "\n",
       "/* Pipeline and ColumnTransformer style (default) */\n",
       "\n",
       "#sk-container-id-1 div.sk-toggleable {\n",
       "  /* Default theme specific background. It is overwritten whether we have a\n",
       "  specific estimator or a Pipeline/ColumnTransformer */\n",
       "  background-color: var(--sklearn-color-background);\n",
       "}\n",
       "\n",
       "/* Toggleable label */\n",
       "#sk-container-id-1 label.sk-toggleable__label {\n",
       "  cursor: pointer;\n",
       "  display: flex;\n",
       "  width: 100%;\n",
       "  margin-bottom: 0;\n",
       "  padding: 0.5em;\n",
       "  box-sizing: border-box;\n",
       "  text-align: center;\n",
       "  align-items: start;\n",
       "  justify-content: space-between;\n",
       "  gap: 0.5em;\n",
       "}\n",
       "\n",
       "#sk-container-id-1 label.sk-toggleable__label .caption {\n",
       "  font-size: 0.6rem;\n",
       "  font-weight: lighter;\n",
       "  color: var(--sklearn-color-text-muted);\n",
       "}\n",
       "\n",
       "#sk-container-id-1 label.sk-toggleable__label-arrow:before {\n",
       "  /* Arrow on the left of the label */\n",
       "  content: \"▸\";\n",
       "  float: left;\n",
       "  margin-right: 0.25em;\n",
       "  color: var(--sklearn-color-icon);\n",
       "}\n",
       "\n",
       "#sk-container-id-1 label.sk-toggleable__label-arrow:hover:before {\n",
       "  color: var(--sklearn-color-text);\n",
       "}\n",
       "\n",
       "/* Toggleable content - dropdown */\n",
       "\n",
       "#sk-container-id-1 div.sk-toggleable__content {\n",
       "  max-height: 0;\n",
       "  max-width: 0;\n",
       "  overflow: hidden;\n",
       "  text-align: left;\n",
       "  /* unfitted */\n",
       "  background-color: var(--sklearn-color-unfitted-level-0);\n",
       "}\n",
       "\n",
       "#sk-container-id-1 div.sk-toggleable__content.fitted {\n",
       "  /* fitted */\n",
       "  background-color: var(--sklearn-color-fitted-level-0);\n",
       "}\n",
       "\n",
       "#sk-container-id-1 div.sk-toggleable__content pre {\n",
       "  margin: 0.2em;\n",
       "  border-radius: 0.25em;\n",
       "  color: var(--sklearn-color-text);\n",
       "  /* unfitted */\n",
       "  background-color: var(--sklearn-color-unfitted-level-0);\n",
       "}\n",
       "\n",
       "#sk-container-id-1 div.sk-toggleable__content.fitted pre {\n",
       "  /* unfitted */\n",
       "  background-color: var(--sklearn-color-fitted-level-0);\n",
       "}\n",
       "\n",
       "#sk-container-id-1 input.sk-toggleable__control:checked~div.sk-toggleable__content {\n",
       "  /* Expand drop-down */\n",
       "  max-height: 200px;\n",
       "  max-width: 100%;\n",
       "  overflow: auto;\n",
       "}\n",
       "\n",
       "#sk-container-id-1 input.sk-toggleable__control:checked~label.sk-toggleable__label-arrow:before {\n",
       "  content: \"▾\";\n",
       "}\n",
       "\n",
       "/* Pipeline/ColumnTransformer-specific style */\n",
       "\n",
       "#sk-container-id-1 div.sk-label input.sk-toggleable__control:checked~label.sk-toggleable__label {\n",
       "  color: var(--sklearn-color-text);\n",
       "  background-color: var(--sklearn-color-unfitted-level-2);\n",
       "}\n",
       "\n",
       "#sk-container-id-1 div.sk-label.fitted input.sk-toggleable__control:checked~label.sk-toggleable__label {\n",
       "  background-color: var(--sklearn-color-fitted-level-2);\n",
       "}\n",
       "\n",
       "/* Estimator-specific style */\n",
       "\n",
       "/* Colorize estimator box */\n",
       "#sk-container-id-1 div.sk-estimator input.sk-toggleable__control:checked~label.sk-toggleable__label {\n",
       "  /* unfitted */\n",
       "  background-color: var(--sklearn-color-unfitted-level-2);\n",
       "}\n",
       "\n",
       "#sk-container-id-1 div.sk-estimator.fitted input.sk-toggleable__control:checked~label.sk-toggleable__label {\n",
       "  /* fitted */\n",
       "  background-color: var(--sklearn-color-fitted-level-2);\n",
       "}\n",
       "\n",
       "#sk-container-id-1 div.sk-label label.sk-toggleable__label,\n",
       "#sk-container-id-1 div.sk-label label {\n",
       "  /* The background is the default theme color */\n",
       "  color: var(--sklearn-color-text-on-default-background);\n",
       "}\n",
       "\n",
       "/* On hover, darken the color of the background */\n",
       "#sk-container-id-1 div.sk-label:hover label.sk-toggleable__label {\n",
       "  color: var(--sklearn-color-text);\n",
       "  background-color: var(--sklearn-color-unfitted-level-2);\n",
       "}\n",
       "\n",
       "/* Label box, darken color on hover, fitted */\n",
       "#sk-container-id-1 div.sk-label.fitted:hover label.sk-toggleable__label.fitted {\n",
       "  color: var(--sklearn-color-text);\n",
       "  background-color: var(--sklearn-color-fitted-level-2);\n",
       "}\n",
       "\n",
       "/* Estimator label */\n",
       "\n",
       "#sk-container-id-1 div.sk-label label {\n",
       "  font-family: monospace;\n",
       "  font-weight: bold;\n",
       "  display: inline-block;\n",
       "  line-height: 1.2em;\n",
       "}\n",
       "\n",
       "#sk-container-id-1 div.sk-label-container {\n",
       "  text-align: center;\n",
       "}\n",
       "\n",
       "/* Estimator-specific */\n",
       "#sk-container-id-1 div.sk-estimator {\n",
       "  font-family: monospace;\n",
       "  border: 1px dotted var(--sklearn-color-border-box);\n",
       "  border-radius: 0.25em;\n",
       "  box-sizing: border-box;\n",
       "  margin-bottom: 0.5em;\n",
       "  /* unfitted */\n",
       "  background-color: var(--sklearn-color-unfitted-level-0);\n",
       "}\n",
       "\n",
       "#sk-container-id-1 div.sk-estimator.fitted {\n",
       "  /* fitted */\n",
       "  background-color: var(--sklearn-color-fitted-level-0);\n",
       "}\n",
       "\n",
       "/* on hover */\n",
       "#sk-container-id-1 div.sk-estimator:hover {\n",
       "  /* unfitted */\n",
       "  background-color: var(--sklearn-color-unfitted-level-2);\n",
       "}\n",
       "\n",
       "#sk-container-id-1 div.sk-estimator.fitted:hover {\n",
       "  /* fitted */\n",
       "  background-color: var(--sklearn-color-fitted-level-2);\n",
       "}\n",
       "\n",
       "/* Specification for estimator info (e.g. \"i\" and \"?\") */\n",
       "\n",
       "/* Common style for \"i\" and \"?\" */\n",
       "\n",
       ".sk-estimator-doc-link,\n",
       "a:link.sk-estimator-doc-link,\n",
       "a:visited.sk-estimator-doc-link {\n",
       "  float: right;\n",
       "  font-size: smaller;\n",
       "  line-height: 1em;\n",
       "  font-family: monospace;\n",
       "  background-color: var(--sklearn-color-background);\n",
       "  border-radius: 1em;\n",
       "  height: 1em;\n",
       "  width: 1em;\n",
       "  text-decoration: none !important;\n",
       "  margin-left: 0.5em;\n",
       "  text-align: center;\n",
       "  /* unfitted */\n",
       "  border: var(--sklearn-color-unfitted-level-1) 1pt solid;\n",
       "  color: var(--sklearn-color-unfitted-level-1);\n",
       "}\n",
       "\n",
       ".sk-estimator-doc-link.fitted,\n",
       "a:link.sk-estimator-doc-link.fitted,\n",
       "a:visited.sk-estimator-doc-link.fitted {\n",
       "  /* fitted */\n",
       "  border: var(--sklearn-color-fitted-level-1) 1pt solid;\n",
       "  color: var(--sklearn-color-fitted-level-1);\n",
       "}\n",
       "\n",
       "/* On hover */\n",
       "div.sk-estimator:hover .sk-estimator-doc-link:hover,\n",
       ".sk-estimator-doc-link:hover,\n",
       "div.sk-label-container:hover .sk-estimator-doc-link:hover,\n",
       ".sk-estimator-doc-link:hover {\n",
       "  /* unfitted */\n",
       "  background-color: var(--sklearn-color-unfitted-level-3);\n",
       "  color: var(--sklearn-color-background);\n",
       "  text-decoration: none;\n",
       "}\n",
       "\n",
       "div.sk-estimator.fitted:hover .sk-estimator-doc-link.fitted:hover,\n",
       ".sk-estimator-doc-link.fitted:hover,\n",
       "div.sk-label-container:hover .sk-estimator-doc-link.fitted:hover,\n",
       ".sk-estimator-doc-link.fitted:hover {\n",
       "  /* fitted */\n",
       "  background-color: var(--sklearn-color-fitted-level-3);\n",
       "  color: var(--sklearn-color-background);\n",
       "  text-decoration: none;\n",
       "}\n",
       "\n",
       "/* Span, style for the box shown on hovering the info icon */\n",
       ".sk-estimator-doc-link span {\n",
       "  display: none;\n",
       "  z-index: 9999;\n",
       "  position: relative;\n",
       "  font-weight: normal;\n",
       "  right: .2ex;\n",
       "  padding: .5ex;\n",
       "  margin: .5ex;\n",
       "  width: min-content;\n",
       "  min-width: 20ex;\n",
       "  max-width: 50ex;\n",
       "  color: var(--sklearn-color-text);\n",
       "  box-shadow: 2pt 2pt 4pt #999;\n",
       "  /* unfitted */\n",
       "  background: var(--sklearn-color-unfitted-level-0);\n",
       "  border: .5pt solid var(--sklearn-color-unfitted-level-3);\n",
       "}\n",
       "\n",
       ".sk-estimator-doc-link.fitted span {\n",
       "  /* fitted */\n",
       "  background: var(--sklearn-color-fitted-level-0);\n",
       "  border: var(--sklearn-color-fitted-level-3);\n",
       "}\n",
       "\n",
       ".sk-estimator-doc-link:hover span {\n",
       "  display: block;\n",
       "}\n",
       "\n",
       "/* \"?\"-specific style due to the `<a>` HTML tag */\n",
       "\n",
       "#sk-container-id-1 a.estimator_doc_link {\n",
       "  float: right;\n",
       "  font-size: 1rem;\n",
       "  line-height: 1em;\n",
       "  font-family: monospace;\n",
       "  background-color: var(--sklearn-color-background);\n",
       "  border-radius: 1rem;\n",
       "  height: 1rem;\n",
       "  width: 1rem;\n",
       "  text-decoration: none;\n",
       "  /* unfitted */\n",
       "  color: var(--sklearn-color-unfitted-level-1);\n",
       "  border: var(--sklearn-color-unfitted-level-1) 1pt solid;\n",
       "}\n",
       "\n",
       "#sk-container-id-1 a.estimator_doc_link.fitted {\n",
       "  /* fitted */\n",
       "  border: var(--sklearn-color-fitted-level-1) 1pt solid;\n",
       "  color: var(--sklearn-color-fitted-level-1);\n",
       "}\n",
       "\n",
       "/* On hover */\n",
       "#sk-container-id-1 a.estimator_doc_link:hover {\n",
       "  /* unfitted */\n",
       "  background-color: var(--sklearn-color-unfitted-level-3);\n",
       "  color: var(--sklearn-color-background);\n",
       "  text-decoration: none;\n",
       "}\n",
       "\n",
       "#sk-container-id-1 a.estimator_doc_link.fitted:hover {\n",
       "  /* fitted */\n",
       "  background-color: var(--sklearn-color-fitted-level-3);\n",
       "}\n",
       "</style><div id=\"sk-container-id-1\" class=\"sk-top-container\"><div class=\"sk-text-repr-fallback\"><pre>Pipeline(steps=[(&#x27;preparation&#x27;,\n",
       "                 ColumnTransformer(transformers=[(&#x27;num&#x27;, StandardScaler(),\n",
       "                                                  [&#x27;room&#x27;, &#x27;living_room&#x27;,\n",
       "                                                   &#x27;area&#x27;, &#x27;age&#x27;]),\n",
       "                                                 (&#x27;cat&#x27;,\n",
       "                                                  OneHotEncoder(handle_unknown=&#x27;ignore&#x27;),\n",
       "                                                  [&#x27;district&#x27;, &#x27;neighborhood&#x27;,\n",
       "                                                   &#x27;floor&#x27;])])),\n",
       "                (&#x27;model&#x27;,\n",
       "                 GradientBoostingRegressor(learning_rate=0.01, max_depth=7,\n",
       "                                           min_samples_split=10,\n",
       "                                           n_estimators=600))])</pre><b>In a Jupyter environment, please rerun this cell to show the HTML representation or trust the notebook. <br />On GitHub, the HTML representation is unable to render, please try loading this page with nbviewer.org.</b></div><div class=\"sk-container\" hidden><div class=\"sk-item sk-dashed-wrapped\"><div class=\"sk-label-container\"><div class=\"sk-label fitted sk-toggleable\"><input class=\"sk-toggleable__control sk-hidden--visually\" id=\"sk-estimator-id-1\" type=\"checkbox\" ><label for=\"sk-estimator-id-1\" class=\"sk-toggleable__label fitted sk-toggleable__label-arrow\"><div><div>Pipeline</div></div><div><a class=\"sk-estimator-doc-link fitted\" rel=\"noreferrer\" target=\"_blank\" href=\"https://scikit-learn.org/1.6/modules/generated/sklearn.pipeline.Pipeline.html\">?<span>Documentation for Pipeline</span></a><span class=\"sk-estimator-doc-link fitted\">i<span>Fitted</span></span></div></label><div class=\"sk-toggleable__content fitted\"><pre>Pipeline(steps=[(&#x27;preparation&#x27;,\n",
       "                 ColumnTransformer(transformers=[(&#x27;num&#x27;, StandardScaler(),\n",
       "                                                  [&#x27;room&#x27;, &#x27;living_room&#x27;,\n",
       "                                                   &#x27;area&#x27;, &#x27;age&#x27;]),\n",
       "                                                 (&#x27;cat&#x27;,\n",
       "                                                  OneHotEncoder(handle_unknown=&#x27;ignore&#x27;),\n",
       "                                                  [&#x27;district&#x27;, &#x27;neighborhood&#x27;,\n",
       "                                                   &#x27;floor&#x27;])])),\n",
       "                (&#x27;model&#x27;,\n",
       "                 GradientBoostingRegressor(learning_rate=0.01, max_depth=7,\n",
       "                                           min_samples_split=10,\n",
       "                                           n_estimators=600))])</pre></div> </div></div><div class=\"sk-serial\"><div class=\"sk-item sk-dashed-wrapped\"><div class=\"sk-label-container\"><div class=\"sk-label fitted sk-toggleable\"><input class=\"sk-toggleable__control sk-hidden--visually\" id=\"sk-estimator-id-2\" type=\"checkbox\" ><label for=\"sk-estimator-id-2\" class=\"sk-toggleable__label fitted sk-toggleable__label-arrow\"><div><div>preparation: ColumnTransformer</div></div><div><a class=\"sk-estimator-doc-link fitted\" rel=\"noreferrer\" target=\"_blank\" href=\"https://scikit-learn.org/1.6/modules/generated/sklearn.compose.ColumnTransformer.html\">?<span>Documentation for preparation: ColumnTransformer</span></a></div></label><div class=\"sk-toggleable__content fitted\"><pre>ColumnTransformer(transformers=[(&#x27;num&#x27;, StandardScaler(),\n",
       "                                 [&#x27;room&#x27;, &#x27;living_room&#x27;, &#x27;area&#x27;, &#x27;age&#x27;]),\n",
       "                                (&#x27;cat&#x27;, OneHotEncoder(handle_unknown=&#x27;ignore&#x27;),\n",
       "                                 [&#x27;district&#x27;, &#x27;neighborhood&#x27;, &#x27;floor&#x27;])])</pre></div> </div></div><div class=\"sk-parallel\"><div class=\"sk-parallel-item\"><div class=\"sk-item\"><div class=\"sk-label-container\"><div class=\"sk-label fitted sk-toggleable\"><input class=\"sk-toggleable__control sk-hidden--visually\" id=\"sk-estimator-id-3\" type=\"checkbox\" ><label for=\"sk-estimator-id-3\" class=\"sk-toggleable__label fitted sk-toggleable__label-arrow\"><div><div>num</div></div></label><div class=\"sk-toggleable__content fitted\"><pre>[&#x27;room&#x27;, &#x27;living_room&#x27;, &#x27;area&#x27;, &#x27;age&#x27;]</pre></div> </div></div><div class=\"sk-serial\"><div class=\"sk-item\"><div class=\"sk-estimator fitted sk-toggleable\"><input class=\"sk-toggleable__control sk-hidden--visually\" id=\"sk-estimator-id-4\" type=\"checkbox\" ><label for=\"sk-estimator-id-4\" class=\"sk-toggleable__label fitted sk-toggleable__label-arrow\"><div><div>StandardScaler</div></div><div><a class=\"sk-estimator-doc-link fitted\" rel=\"noreferrer\" target=\"_blank\" href=\"https://scikit-learn.org/1.6/modules/generated/sklearn.preprocessing.StandardScaler.html\">?<span>Documentation for StandardScaler</span></a></div></label><div class=\"sk-toggleable__content fitted\"><pre>StandardScaler()</pre></div> </div></div></div></div></div><div class=\"sk-parallel-item\"><div class=\"sk-item\"><div class=\"sk-label-container\"><div class=\"sk-label fitted sk-toggleable\"><input class=\"sk-toggleable__control sk-hidden--visually\" id=\"sk-estimator-id-5\" type=\"checkbox\" ><label for=\"sk-estimator-id-5\" class=\"sk-toggleable__label fitted sk-toggleable__label-arrow\"><div><div>cat</div></div></label><div class=\"sk-toggleable__content fitted\"><pre>[&#x27;district&#x27;, &#x27;neighborhood&#x27;, &#x27;floor&#x27;]</pre></div> </div></div><div class=\"sk-serial\"><div class=\"sk-item\"><div class=\"sk-estimator fitted sk-toggleable\"><input class=\"sk-toggleable__control sk-hidden--visually\" id=\"sk-estimator-id-6\" type=\"checkbox\" ><label for=\"sk-estimator-id-6\" class=\"sk-toggleable__label fitted sk-toggleable__label-arrow\"><div><div>OneHotEncoder</div></div><div><a class=\"sk-estimator-doc-link fitted\" rel=\"noreferrer\" target=\"_blank\" href=\"https://scikit-learn.org/1.6/modules/generated/sklearn.preprocessing.OneHotEncoder.html\">?<span>Documentation for OneHotEncoder</span></a></div></label><div class=\"sk-toggleable__content fitted\"><pre>OneHotEncoder(handle_unknown=&#x27;ignore&#x27;)</pre></div> </div></div></div></div></div></div></div><div class=\"sk-item\"><div class=\"sk-estimator fitted sk-toggleable\"><input class=\"sk-toggleable__control sk-hidden--visually\" id=\"sk-estimator-id-7\" type=\"checkbox\" ><label for=\"sk-estimator-id-7\" class=\"sk-toggleable__label fitted sk-toggleable__label-arrow\"><div><div>GradientBoostingRegressor</div></div><div><a class=\"sk-estimator-doc-link fitted\" rel=\"noreferrer\" target=\"_blank\" href=\"https://scikit-learn.org/1.6/modules/generated/sklearn.ensemble.GradientBoostingRegressor.html\">?<span>Documentation for GradientBoostingRegressor</span></a></div></label><div class=\"sk-toggleable__content fitted\"><pre>GradientBoostingRegressor(learning_rate=0.01, max_depth=7, min_samples_split=10,\n",
       "                          n_estimators=600)</pre></div> </div></div></div></div></div></div>"
      ],
      "text/plain": [
       "Pipeline(steps=[('preparation',\n",
       "                 ColumnTransformer(transformers=[('num', StandardScaler(),\n",
       "                                                  ['room', 'living_room',\n",
       "                                                   'area', 'age']),\n",
       "                                                 ('cat',\n",
       "                                                  OneHotEncoder(handle_unknown='ignore'),\n",
       "                                                  ['district', 'neighborhood',\n",
       "                                                   'floor'])])),\n",
       "                ('model',\n",
       "                 GradientBoostingRegressor(learning_rate=0.01, max_depth=7,\n",
       "                                           min_samples_split=10,\n",
       "                                           n_estimators=600))])"
      ]
     },
     "execution_count": 18,
     "metadata": {},
     "output_type": "execute_result"
    }
   ],
   "source": [
    "model.fit(X_train, y_train)"
   ]
  },
  {
   "cell_type": "code",
   "execution_count": 19,
   "metadata": {
    "execution": {
     "iopub.execute_input": "2025-01-04T12:55:13.615141Z",
     "iopub.status.busy": "2025-01-04T12:55:13.614702Z",
     "iopub.status.idle": "2025-01-04T12:55:13.642608Z",
     "shell.execute_reply": "2025-01-04T12:55:13.641361Z",
     "shell.execute_reply.started": "2025-01-04T12:55:13.615103Z"
    },
    "trusted": true
   },
   "outputs": [],
   "source": [
    "y_pred = model.predict(X_test)\n",
    "mse = mean_squared_error(y_test, y_pred)\n",
    "rmse = np.sqrt(mse)\n",
    "r2 = r2_score(y_test, y_pred)"
   ]
  },
  {
   "cell_type": "code",
   "execution_count": 20,
   "metadata": {
    "execution": {
     "iopub.execute_input": "2025-01-04T12:55:15.776802Z",
     "iopub.status.busy": "2025-01-04T12:55:15.776411Z",
     "iopub.status.idle": "2025-01-04T12:55:24.242747Z",
     "shell.execute_reply": "2025-01-04T12:55:24.241172Z",
     "shell.execute_reply.started": "2025-01-04T12:55:15.776766Z"
    },
    "trusted": true
   },
   "outputs": [
    {
     "name": "stdout",
     "output_type": "stream",
     "text": [
      "MAE scores:\n",
      " [1739.78012464 1722.60943137 1606.67205981 1694.39033584 1543.83215528]\n"
     ]
    }
   ],
   "source": [
    "from sklearn.model_selection import cross_val_score\n",
    "\n",
    "# Multiply by -1 since sklearn calculates *negative* MAE\n",
    "scores = -1 * cross_val_score(model, X, y,\n",
    "                              cv=5,\n",
    "                              scoring='neg_mean_absolute_error')\n",
    "\n",
    "print(\"MAE scores:\\n\", scores)"
   ]
  },
  {
   "cell_type": "code",
   "execution_count": 21,
   "metadata": {
    "execution": {
     "iopub.execute_input": "2025-01-04T12:55:27.373439Z",
     "iopub.status.busy": "2025-01-04T12:55:27.373065Z",
     "iopub.status.idle": "2025-01-04T12:55:27.379736Z",
     "shell.execute_reply": "2025-01-04T12:55:27.378343Z",
     "shell.execute_reply.started": "2025-01-04T12:55:27.373406Z"
    },
    "trusted": true
   },
   "outputs": [
    {
     "name": "stdout",
     "output_type": "stream",
     "text": [
      "Average MAE score (across experiments):\n",
      "1661.456821388369\n"
     ]
    }
   ],
   "source": [
    "print(\"Average MAE score (across experiments):\")\n",
    "print(scores.mean())"
   ]
  },
  {
   "cell_type": "code",
   "execution_count": 22,
   "metadata": {
    "execution": {
     "iopub.execute_input": "2025-01-04T12:55:30.543696Z",
     "iopub.status.busy": "2025-01-04T12:55:30.543233Z",
     "iopub.status.idle": "2025-01-04T12:55:30.551579Z",
     "shell.execute_reply": "2025-01-04T12:55:30.550112Z",
     "shell.execute_reply.started": "2025-01-04T12:55:30.543658Z"
    },
    "trusted": true
   },
   "outputs": [
    {
     "name": "stdout",
     "output_type": "stream",
     "text": [
      "MSE: 4177085.2966866842\n",
      "RMSE: 2043.7918917264262\n",
      "R^2: 0.5615753316901472\n"
     ]
    }
   ],
   "source": [
    "print(f\"MSE: {mse}\")\n",
    "print(f\"RMSE: {rmse}\")\n",
    "print(f\"R^2: {r2}\")"
   ]
  },
  {
   "cell_type": "code",
   "execution_count": 27,
   "metadata": {
    "execution": {
     "iopub.execute_input": "2025-01-04T11:56:10.283166Z",
     "iopub.status.busy": "2025-01-04T11:56:10.282767Z",
     "iopub.status.idle": "2025-01-04T11:56:10.301223Z",
     "shell.execute_reply": "2025-01-04T11:56:10.299857Z",
     "shell.execute_reply.started": "2025-01-04T11:56:10.283135Z"
    },
    "trusted": true
   },
   "outputs": [],
   "source": [
    "# feature_importances = model.named_steps['model'].coef_\n",
    "# print(len(feature_importances))\n",
    "# print(feature_importances)"
   ]
  },
  {
   "cell_type": "code",
   "execution_count": 28,
   "metadata": {
    "execution": {
     "iopub.execute_input": "2025-01-04T11:56:10.302925Z",
     "iopub.status.busy": "2025-01-04T11:56:10.302505Z",
     "iopub.status.idle": "2025-01-04T11:56:10.324872Z",
     "shell.execute_reply": "2025-01-04T11:56:10.323401Z",
     "shell.execute_reply.started": "2025-01-04T11:56:10.302885Z"
    },
    "trusted": true
   },
   "outputs": [],
   "source": [
    "# print(\"Numerical Features\")\n",
    "# for i in range(len(numerical_features)):\n",
    "#     print(numerical_features[i], feature_importances[i])"
   ]
  },
  {
   "cell_type": "code",
   "execution_count": 875,
   "metadata": {
    "execution": {
     "iopub.execute_input": "2025-01-04T11:56:10.327112Z",
     "iopub.status.busy": "2025-01-04T11:56:10.326469Z",
     "iopub.status.idle": "2025-01-04T11:56:10.344257Z",
     "shell.execute_reply": "2025-01-04T11:56:10.342999Z",
     "shell.execute_reply.started": "2025-01-04T11:56:10.327073Z"
    },
    "trusted": true
   },
   "outputs": [],
   "source": [
    "# print(\"Categorical Features\")\n",
    "# for i in range(len(categorical_features)):\n",
    "#     for j in range(len(model.named_steps['preparation'].transformers_[1][1].categories_[i])):\n",
    "#         print(model.named_steps['preparation'].transformers_[1][1].categories_[i][j], feature_importances[len(numerical_features) + j])"
   ]
  },
  {
   "cell_type": "code",
   "execution_count": 29,
   "metadata": {
    "execution": {
     "iopub.execute_input": "2025-01-04T12:24:08.794695Z",
     "iopub.status.busy": "2025-01-04T12:24:08.794286Z",
     "iopub.status.idle": "2025-01-04T12:24:08.809499Z",
     "shell.execute_reply": "2025-01-04T12:24:08.808220Z",
     "shell.execute_reply.started": "2025-01-04T12:24:08.794659Z"
    },
    "trusted": true
   },
   "outputs": [
    {
     "name": "stdout",
     "output_type": "stream",
     "text": [
      "[10801.20110874]\n"
     ]
    }
   ],
   "source": [
    "new_data = pd.DataFrame({\n",
    "    'district': ['Talas'],\n",
    "    'neighborhood': ['Mevlana'],\n",
    "    'room': [3],\n",
    "    'living_room': [1],\n",
    "    'area': [150],\n",
    "    'age': [18],\n",
    "    'floor': ['4. Kat']\n",
    "})\n",
    "\n",
    "print(model.predict(new_data))"
   ]
  },
  {
   "cell_type": "code",
   "execution_count": 30,
   "metadata": {
    "execution": {
     "iopub.execute_input": "2025-01-04T11:56:10.376135Z",
     "iopub.status.busy": "2025-01-04T11:56:10.375726Z",
     "iopub.status.idle": "2025-01-04T11:56:10.422652Z",
     "shell.execute_reply": "2025-01-04T11:56:10.421295Z",
     "shell.execute_reply.started": "2025-01-04T11:56:10.376106Z"
    },
    "trusted": true
   },
   "outputs": [
    {
     "name": "stdout",
     "output_type": "stream",
     "text": [
      "              price        room  living_room        area         age\n",
      "count    252.000000  252.000000        252.0  252.000000  252.000000\n",
      "mean   13798.202381    2.599206          1.0  137.757937    7.682540\n",
      "std     2557.685464    0.709974          0.0   36.006210    5.575488\n",
      "min     8500.000000    1.000000          1.0   55.000000    0.000000\n",
      "25%    12000.000000    2.000000          1.0  110.000000    4.000000\n",
      "50%    13500.000000    3.000000          1.0  150.000000    5.000000\n",
      "75%    15000.000000    3.000000          1.0  165.000000   11.000000\n",
      "max    21000.000000    4.000000          1.0  220.000000   25.000000\n"
     ]
    }
   ],
   "source": [
    "print(df[(df['district'] == 'Talas') & (df['neighborhood'] == 'Mevlana')].describe())"
   ]
  },
  {
   "cell_type": "code",
   "execution_count": 31,
   "metadata": {
    "execution": {
     "iopub.execute_input": "2025-01-04T12:24:14.040328Z",
     "iopub.status.busy": "2025-01-04T12:24:14.039906Z",
     "iopub.status.idle": "2025-01-04T12:24:14.047025Z",
     "shell.execute_reply": "2025-01-04T12:24:14.045607Z",
     "shell.execute_reply.started": "2025-01-04T12:24:14.040295Z"
    },
    "trusted": true
   },
   "outputs": [],
   "source": [
    "def tolerance_r2(y_true, y_pred, tolerance):\n",
    "    residuals = y_pred - y_true\n",
    "    residuals[np.abs(residuals) <= tolerance] = 0\n",
    "    ssr = np.sum(residuals**2)\n",
    "    sst = np.sum((y_true - np.mean(y_true))**2)\n",
    "    return 1 - (ssr / sst)\n",
    "\n",
    "def tolerance_percentage_r2(y_true, y_pred, tolerance):\n",
    "    residuals = y_pred - y_true\n",
    "    residuals[(np.abs(residuals) / y_true) <= tolerance] = 0\n",
    "    ssr = np.sum(residuals**2)\n",
    "    sst = np.sum((y_true - np.mean(y_true))**2)\n",
    "    return 1 - (ssr / sst)"
   ]
  },
  {
   "cell_type": "code",
   "execution_count": 32,
   "metadata": {
    "execution": {
     "iopub.execute_input": "2025-01-04T12:56:31.834741Z",
     "iopub.status.busy": "2025-01-04T12:56:31.834400Z",
     "iopub.status.idle": "2025-01-04T12:56:31.847425Z",
     "shell.execute_reply": "2025-01-04T12:56:31.845832Z",
     "shell.execute_reply.started": "2025-01-04T12:56:31.834715Z"
    },
    "trusted": true
   },
   "outputs": [
    {
     "name": "stdout",
     "output_type": "stream",
     "text": [
      "0.5615753316901472\n",
      "0.6359474827392582\n",
      "0.5855116423215574\n"
     ]
    }
   ],
   "source": [
    "print(r2_score(y_test, y_pred))\n",
    "print(tolerance_r2(y_test, y_pred, 2000))\n",
    "print(tolerance_percentage_r2(y_test, y_pred, 0.10))"
   ]
  }
 ],
 "metadata": {
  "kaggle": {
   "accelerator": "none",
   "dataSources": [
    {
     "datasetId": 6420508,
     "sourceId": 10366052,
     "sourceType": "datasetVersion"
    }
   ],
   "dockerImageVersionId": 30822,
   "isGpuEnabled": false,
   "isInternetEnabled": true,
   "language": "python",
   "sourceType": "notebook"
  },
  "kernelspec": {
   "display_name": ".venv",
   "language": "python",
   "name": "python3"
  },
  "language_info": {
   "codemirror_mode": {
    "name": "ipython",
    "version": 3
   },
   "file_extension": ".py",
   "mimetype": "text/x-python",
   "name": "python",
   "nbconvert_exporter": "python",
   "pygments_lexer": "ipython3",
   "version": "3.13.1"
  }
 },
 "nbformat": 4,
 "nbformat_minor": 4
}
