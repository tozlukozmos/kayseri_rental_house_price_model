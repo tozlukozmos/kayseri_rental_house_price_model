{
 "cells": [
  {
   "cell_type": "code",
   "execution_count": 23,
   "id": "c8b87d11",
   "metadata": {
    "_cell_guid": "b1076dfc-b9ad-4769-8c92-a6c4dae69d19",
    "_uuid": "8f2839f25d086af736a60e9eeb907d3b93b6e0e5",
    "execution": {
     "iopub.execute_input": "2025-01-03T20:14:13.829886Z",
     "iopub.status.busy": "2025-01-03T20:14:13.829557Z",
     "iopub.status.idle": "2025-01-03T20:14:14.205572Z",
     "shell.execute_reply": "2025-01-03T20:14:14.204219Z"
    },
    "papermill": {
     "duration": 0.382591,
     "end_time": "2025-01-03T20:14:14.207463",
     "exception": false,
     "start_time": "2025-01-03T20:14:13.824872",
     "status": "completed"
    },
    "tags": []
   },
   "outputs": [],
   "source": [
    "import numpy as np # linear algebra\n",
    "import pandas as pd # data processing"
   ]
  },
  {
   "cell_type": "code",
   "execution_count": 24,
   "id": "8ff11ed7",
   "metadata": {
    "execution": {
     "iopub.execute_input": "2025-01-03T20:14:14.215446Z",
     "iopub.status.busy": "2025-01-03T20:14:14.214942Z",
     "iopub.status.idle": "2025-01-03T20:14:14.256755Z",
     "shell.execute_reply": "2025-01-03T20:14:14.255719Z"
    },
    "papermill": {
     "duration": 0.047835,
     "end_time": "2025-01-03T20:14:14.258677",
     "exception": false,
     "start_time": "2025-01-03T20:14:14.210842",
     "status": "completed"
    },
    "tags": []
   },
   "outputs": [],
   "source": [
    "df = pd.read_csv('./data/raw_data.csv')"
   ]
  },
  {
   "cell_type": "code",
   "execution_count": 25,
   "id": "e1518525",
   "metadata": {
    "execution": {
     "iopub.execute_input": "2025-01-03T20:14:14.266176Z",
     "iopub.status.busy": "2025-01-03T20:14:14.265775Z",
     "iopub.status.idle": "2025-01-03T20:14:14.289325Z",
     "shell.execute_reply": "2025-01-03T20:14:14.288123Z"
    },
    "papermill": {
     "duration": 0.028996,
     "end_time": "2025-01-03T20:14:14.290908",
     "exception": false,
     "start_time": "2025-01-03T20:14:14.261912",
     "status": "completed"
    },
    "tags": []
   },
   "outputs": [
    {
     "data": {
      "text/html": [
       "<div>\n",
       "<style scoped>\n",
       "    .dataframe tbody tr th:only-of-type {\n",
       "        vertical-align: middle;\n",
       "    }\n",
       "\n",
       "    .dataframe tbody tr th {\n",
       "        vertical-align: top;\n",
       "    }\n",
       "\n",
       "    .dataframe thead th {\n",
       "        text-align: right;\n",
       "    }\n",
       "</style>\n",
       "<table border=\"1\" class=\"dataframe\">\n",
       "  <thead>\n",
       "    <tr style=\"text-align: right;\">\n",
       "      <th></th>\n",
       "      <th>img-link href</th>\n",
       "      <th>photo-count</th>\n",
       "      <th>list-view-price</th>\n",
       "      <th>list-view-date</th>\n",
       "      <th>celly</th>\n",
       "      <th>celly 2</th>\n",
       "      <th>celly 3</th>\n",
       "      <th>celly 4</th>\n",
       "      <th>list-view-header</th>\n",
       "      <th>list-view-location</th>\n",
       "      <th>img-wrp href</th>\n",
       "      <th>he-lazy-image src</th>\n",
       "      <th>listing-card--owner-info__firm-name</th>\n",
       "      <th>he-lazy-image src 2</th>\n",
       "      <th>eids-badge__description</th>\n",
       "      <th>eids-badge__label</th>\n",
       "      <th>he-lazy-image src 3</th>\n",
       "    </tr>\n",
       "  </thead>\n",
       "  <tbody>\n",
       "    <tr>\n",
       "      <th>0</th>\n",
       "      <td>https://www.hepsiemlak.com/kayseri-talas-yenid...</td>\n",
       "      <td>37</td>\n",
       "      <td>30.000</td>\n",
       "      <td>31-12-2024</td>\n",
       "      <td>4 +\\n                          1</td>\n",
       "      <td>250 m²</td>\n",
       "      <td>6\\n                        Yaşında</td>\n",
       "      <td>2. Kat</td>\n",
       "      <td>Talas Yenidoğan Suzidil Konak'ta 4+1 Lüks Kira...</td>\n",
       "      <td>Kayseri / Talas / Yenidoğan Mah.</td>\n",
       "      <td>https://www.hepsiemlak.com/emlak-ofisi/yasar-g...</td>\n",
       "      <td>https://hecdnnw.hemlak.com/mncropresize/77/67/...</td>\n",
       "      <td>Yaşar Gayrimenkul Talas</td>\n",
       "      <td>NaN</td>\n",
       "      <td>NaN</td>\n",
       "      <td>NaN</td>\n",
       "      <td>NaN</td>\n",
       "    </tr>\n",
       "    <tr>\n",
       "      <th>1</th>\n",
       "      <td>https://www.hepsiemlak.com/kayseri-talas-mevla...</td>\n",
       "      <td>19</td>\n",
       "      <td>10.250</td>\n",
       "      <td>03-01-2025</td>\n",
       "      <td>3 +\\n                          1</td>\n",
       "      <td>135 m²</td>\n",
       "      <td>21\\n                        Yaşında</td>\n",
       "      <td>12. Kat</td>\n",
       "      <td>****talas Anayurtun En Uygun En Güzel Dairesi ...</td>\n",
       "      <td>Kayseri / Talas / Mevlana Mah.</td>\n",
       "      <td>https://www.hepsiemlak.com/emlak-ofisi/yasar-g...</td>\n",
       "      <td>https://hecdnnw.hemlak.com/mncropresize/77/67/...</td>\n",
       "      <td>Yaşar Gayrimenkul Talas</td>\n",
       "      <td>NaN</td>\n",
       "      <td>NaN</td>\n",
       "      <td>NaN</td>\n",
       "      <td>NaN</td>\n",
       "    </tr>\n",
       "    <tr>\n",
       "      <th>2</th>\n",
       "      <td>https://www.hepsiemlak.com/kayseri-kocasinan-y...</td>\n",
       "      <td>35</td>\n",
       "      <td>13.500</td>\n",
       "      <td>03-01-2025</td>\n",
       "      <td>3 +\\n                          1</td>\n",
       "      <td>175 m²</td>\n",
       "      <td>11\\n                        Yaşında</td>\n",
       "      <td>4. Kat</td>\n",
       "      <td>Yeşil Mah. Meydanında Konumu Güzel Geniş Kulla...</td>\n",
       "      <td>Kayseri / Kocasinan / Yeşil Mah.</td>\n",
       "      <td>NaN</td>\n",
       "      <td>NaN</td>\n",
       "      <td>NaN</td>\n",
       "      <td>NaN</td>\n",
       "      <td>NaN</td>\n",
       "      <td>NaN</td>\n",
       "      <td>NaN</td>\n",
       "    </tr>\n",
       "    <tr>\n",
       "      <th>3</th>\n",
       "      <td>https://www.hepsiemlak.com/kayseri-talas-mevla...</td>\n",
       "      <td>32</td>\n",
       "      <td>14.999</td>\n",
       "      <td>03-01-2025</td>\n",
       "      <td>1 +\\n                          1</td>\n",
       "      <td>75 m²</td>\n",
       "      <td>Sıfır Bina</td>\n",
       "      <td>4. Kat</td>\n",
       "      <td>Ev Dünyasından// Talas'ın Gözdesi Mevlanada Sı...</td>\n",
       "      <td>Kayseri / Talas / Mevlana Mah.</td>\n",
       "      <td>https://www.hepsiemlak.com/emlak-ofisi/ev-duny...</td>\n",
       "      <td>https://hecdn01.hemlak.com/mncropresize/182/13...</td>\n",
       "      <td>Ev Dünyası</td>\n",
       "      <td>https://hecdnnw.hemlak.com/mncropresize/77/67/...</td>\n",
       "      <td>NaN</td>\n",
       "      <td>NaN</td>\n",
       "      <td>NaN</td>\n",
       "    </tr>\n",
       "    <tr>\n",
       "      <th>4</th>\n",
       "      <td>https://www.hepsiemlak.com/kayseri-melikgazi-k...</td>\n",
       "      <td>31</td>\n",
       "      <td>24.000</td>\n",
       "      <td>03-01-2025</td>\n",
       "      <td>4 +\\n                          1</td>\n",
       "      <td>220 m²</td>\n",
       "      <td>15\\n                        Yaşında</td>\n",
       "      <td>8. Kat</td>\n",
       "      <td>Kaçmaz Daire Köşk Sosyete Yakını Bakımlı Geniş...</td>\n",
       "      <td>Kayseri / Melikgazi / Köşk Mah.</td>\n",
       "      <td>https://www.hepsiemlak.com/emlak-ofisi/anemon-...</td>\n",
       "      <td>https://hecdn01.hemlak.com/mncropresize/182/13...</td>\n",
       "      <td>Anemon Gayrimenkul Emlak</td>\n",
       "      <td>https://hecdn01.hemlak.com/img/eids-logo-mini.png</td>\n",
       "      <td>Elektronik İlan Doğrulama Sistemi yetki doğrul...</td>\n",
       "      <td>EİDS onaylı</td>\n",
       "      <td>https://hecdnnw.hemlak.com/mncropresize/77/67/...</td>\n",
       "    </tr>\n",
       "  </tbody>\n",
       "</table>\n",
       "</div>"
      ],
      "text/plain": [
       "                                       img-link href  photo-count  \\\n",
       "0  https://www.hepsiemlak.com/kayseri-talas-yenid...           37   \n",
       "1  https://www.hepsiemlak.com/kayseri-talas-mevla...           19   \n",
       "2  https://www.hepsiemlak.com/kayseri-kocasinan-y...           35   \n",
       "3  https://www.hepsiemlak.com/kayseri-talas-mevla...           32   \n",
       "4  https://www.hepsiemlak.com/kayseri-melikgazi-k...           31   \n",
       "\n",
       "  list-view-price list-view-date                             celly celly 2  \\\n",
       "0          30.000     31-12-2024  4 +\\n                          1  250 m²   \n",
       "1          10.250     03-01-2025  3 +\\n                          1  135 m²   \n",
       "2          13.500     03-01-2025  3 +\\n                          1  175 m²   \n",
       "3          14.999     03-01-2025  1 +\\n                          1   75 m²   \n",
       "4          24.000     03-01-2025  4 +\\n                          1  220 m²   \n",
       "\n",
       "                               celly 3  celly 4  \\\n",
       "0   6\\n                        Yaşında   2. Kat   \n",
       "1  21\\n                        Yaşında  12. Kat   \n",
       "2  11\\n                        Yaşında   4. Kat   \n",
       "3                           Sıfır Bina   4. Kat   \n",
       "4  15\\n                        Yaşında   8. Kat   \n",
       "\n",
       "                                    list-view-header  \\\n",
       "0  Talas Yenidoğan Suzidil Konak'ta 4+1 Lüks Kira...   \n",
       "1  ****talas Anayurtun En Uygun En Güzel Dairesi ...   \n",
       "2  Yeşil Mah. Meydanında Konumu Güzel Geniş Kulla...   \n",
       "3  Ev Dünyasından// Talas'ın Gözdesi Mevlanada Sı...   \n",
       "4  Kaçmaz Daire Köşk Sosyete Yakını Bakımlı Geniş...   \n",
       "\n",
       "                 list-view-location  \\\n",
       "0  Kayseri / Talas / Yenidoğan Mah.   \n",
       "1    Kayseri / Talas / Mevlana Mah.   \n",
       "2  Kayseri / Kocasinan / Yeşil Mah.   \n",
       "3    Kayseri / Talas / Mevlana Mah.   \n",
       "4   Kayseri / Melikgazi / Köşk Mah.   \n",
       "\n",
       "                                        img-wrp href  \\\n",
       "0  https://www.hepsiemlak.com/emlak-ofisi/yasar-g...   \n",
       "1  https://www.hepsiemlak.com/emlak-ofisi/yasar-g...   \n",
       "2                                                NaN   \n",
       "3  https://www.hepsiemlak.com/emlak-ofisi/ev-duny...   \n",
       "4  https://www.hepsiemlak.com/emlak-ofisi/anemon-...   \n",
       "\n",
       "                                   he-lazy-image src  \\\n",
       "0  https://hecdnnw.hemlak.com/mncropresize/77/67/...   \n",
       "1  https://hecdnnw.hemlak.com/mncropresize/77/67/...   \n",
       "2                                                NaN   \n",
       "3  https://hecdn01.hemlak.com/mncropresize/182/13...   \n",
       "4  https://hecdn01.hemlak.com/mncropresize/182/13...   \n",
       "\n",
       "  listing-card--owner-info__firm-name  \\\n",
       "0             Yaşar Gayrimenkul Talas   \n",
       "1             Yaşar Gayrimenkul Talas   \n",
       "2                                 NaN   \n",
       "3                          Ev Dünyası   \n",
       "4            Anemon Gayrimenkul Emlak   \n",
       "\n",
       "                                 he-lazy-image src 2  \\\n",
       "0                                                NaN   \n",
       "1                                                NaN   \n",
       "2                                                NaN   \n",
       "3  https://hecdnnw.hemlak.com/mncropresize/77/67/...   \n",
       "4  https://hecdn01.hemlak.com/img/eids-logo-mini.png   \n",
       "\n",
       "                             eids-badge__description eids-badge__label  \\\n",
       "0                                                NaN               NaN   \n",
       "1                                                NaN               NaN   \n",
       "2                                                NaN               NaN   \n",
       "3                                                NaN               NaN   \n",
       "4  Elektronik İlan Doğrulama Sistemi yetki doğrul...       EİDS onaylı   \n",
       "\n",
       "                                 he-lazy-image src 3  \n",
       "0                                                NaN  \n",
       "1                                                NaN  \n",
       "2                                                NaN  \n",
       "3                                                NaN  \n",
       "4  https://hecdnnw.hemlak.com/mncropresize/77/67/...  "
      ]
     },
     "execution_count": 25,
     "metadata": {},
     "output_type": "execute_result"
    }
   ],
   "source": [
    "df.head()"
   ]
  },
  {
   "cell_type": "code",
   "execution_count": 26,
   "id": "bd5e8893",
   "metadata": {
    "execution": {
     "iopub.execute_input": "2025-01-03T20:14:14.299178Z",
     "iopub.status.busy": "2025-01-03T20:14:14.298785Z",
     "iopub.status.idle": "2025-01-03T20:14:14.304097Z",
     "shell.execute_reply": "2025-01-03T20:14:14.303145Z"
    },
    "papermill": {
     "duration": 0.011169,
     "end_time": "2025-01-03T20:14:14.305703",
     "exception": false,
     "start_time": "2025-01-03T20:14:14.294534",
     "status": "completed"
    },
    "tags": []
   },
   "outputs": [],
   "source": [
    "def drop_columns(df, cols):\n",
    "    \"\"\"\n",
    "    This function removes the columns from a DataFrame.\n",
    "    \"\"\"\n",
    "    for col in cols:\n",
    "        try:\n",
    "            df.drop([col], axis=1, inplace=True)\n",
    "        except Exception as e:\n",
    "            print(f\"Bir hata oluştu: {e}\")\n",
    "\n",
    "# source: https://github.com/canbula/KiraTahmini/blob/master/verileri_ayikla.ipynb"
   ]
  },
  {
   "cell_type": "code",
   "execution_count": 27,
   "id": "52c73107",
   "metadata": {
    "execution": {
     "iopub.execute_input": "2025-01-03T20:14:14.313644Z",
     "iopub.status.busy": "2025-01-03T20:14:14.313309Z",
     "iopub.status.idle": "2025-01-03T20:14:14.330881Z",
     "shell.execute_reply": "2025-01-03T20:14:14.329691Z"
    },
    "papermill": {
     "duration": 0.024148,
     "end_time": "2025-01-03T20:14:14.333308",
     "exception": false,
     "start_time": "2025-01-03T20:14:14.309160",
     "status": "completed"
    },
    "tags": []
   },
   "outputs": [],
   "source": [
    "drop_cols = ['img-link href', 'photo-count', 'list-view-date', 'list-view-header', 'img-wrp href', 'he-lazy-image src', 'listing-card--owner-info__firm-name', 'he-lazy-image src 2', 'eids-badge__description', 'eids-badge__label', 'he-lazy-image src 3']\n",
    "drop_columns(df, drop_cols)"
   ]
  },
  {
   "cell_type": "code",
   "execution_count": 28,
   "id": "b9ec7bec",
   "metadata": {
    "execution": {
     "iopub.execute_input": "2025-01-03T20:14:14.341383Z",
     "iopub.status.busy": "2025-01-03T20:14:14.341023Z",
     "iopub.status.idle": "2025-01-03T20:14:14.363353Z",
     "shell.execute_reply": "2025-01-03T20:14:14.362185Z"
    },
    "papermill": {
     "duration": 0.028397,
     "end_time": "2025-01-03T20:14:14.365280",
     "exception": false,
     "start_time": "2025-01-03T20:14:14.336883",
     "status": "completed"
    },
    "tags": []
   },
   "outputs": [
    {
     "name": "stdout",
     "output_type": "stream",
     "text": [
      "<class 'pandas.core.frame.DataFrame'>\n",
      "Index: 1301 entries, 0 to 1302\n",
      "Data columns (total 6 columns):\n",
      " #   Column              Non-Null Count  Dtype \n",
      "---  ------              --------------  ----- \n",
      " 0   list-view-price     1301 non-null   object\n",
      " 1   celly               1301 non-null   object\n",
      " 2   celly 2             1301 non-null   object\n",
      " 3   celly 3             1301 non-null   object\n",
      " 4   celly 4             1301 non-null   object\n",
      " 5   list-view-location  1301 non-null   object\n",
      "dtypes: object(6)\n",
      "memory usage: 71.1+ KB\n"
     ]
    }
   ],
   "source": [
    "# only a few cells have nan value, so we can drop them\n",
    "df.dropna(inplace=True)\n",
    "df.info()"
   ]
  },
  {
   "cell_type": "code",
   "execution_count": 29,
   "id": "6eaa25b1",
   "metadata": {
    "execution": {
     "iopub.execute_input": "2025-01-03T20:14:14.373917Z",
     "iopub.status.busy": "2025-01-03T20:14:14.373570Z",
     "iopub.status.idle": "2025-01-03T20:14:14.399173Z",
     "shell.execute_reply": "2025-01-03T20:14:14.398018Z"
    },
    "papermill": {
     "duration": 0.031647,
     "end_time": "2025-01-03T20:14:14.400811",
     "exception": false,
     "start_time": "2025-01-03T20:14:14.369164",
     "status": "completed"
    },
    "tags": []
   },
   "outputs": [
    {
     "name": "stdout",
     "output_type": "stream",
     "text": [
      "<class 'pandas.core.frame.DataFrame'>\n",
      "Index: 1301 entries, 0 to 1302\n",
      "Data columns (total 14 columns):\n",
      " #   Column              Non-Null Count  Dtype \n",
      "---  ------              --------------  ----- \n",
      " 0   list-view-price     1301 non-null   object\n",
      " 1   celly               1301 non-null   object\n",
      " 2   celly 2             1301 non-null   object\n",
      " 3   celly 3             1301 non-null   object\n",
      " 4   celly 4             1301 non-null   object\n",
      " 5   list-view-location  1301 non-null   object\n",
      " 6   price               1301 non-null   int64 \n",
      " 7   room                1301 non-null   int64 \n",
      " 8   living_room         1301 non-null   int64 \n",
      " 9   area                1301 non-null   int64 \n",
      " 10  age                 1301 non-null   int64 \n",
      " 11  floor               1301 non-null   object\n",
      " 12  district            1301 non-null   object\n",
      " 13  neighborhood        1301 non-null   object\n",
      "dtypes: int64(5), object(9)\n",
      "memory usage: 152.5+ KB\n"
     ]
    }
   ],
   "source": [
    "df['price'] = df['list-view-price'].apply(lambda x: x.replace('.', '')).astype(int)\n",
    "df['celly'] = df['celly'].apply(lambda x: x.replace('Stüdyo', '1 + 0'))\n",
    "\n",
    "df['room'] = df['celly'].apply(lambda x: x.split('+')[0]).astype(int)\n",
    "df['living_room'] = df['celly'].apply(lambda x: x.split('+')[1]).astype(int)\n",
    "\n",
    "df['area'] = df['celly 2'].apply(lambda x: x.split(' ')[0]).astype(int)\n",
    "\n",
    "df['celly 3'] = df['celly 3'].apply(lambda x: x.replace('Sıfır Bina', '0 Yaşında'))\n",
    "df['age'] = df['celly 3'].apply(lambda x: x.split(' ')[0]).astype(int)\n",
    "\n",
    "df['floor'] = df['celly 4']\n",
    "\n",
    "df['district'] = df['list-view-location'].apply(lambda x: x.split(' / ')[1])\n",
    "df['neighborhood'] = df['list-view-location'].apply(lambda x: x.split(' / ')[2].replace(' Mah.', ''))\n",
    "\n",
    "df.info()"
   ]
  },
  {
   "cell_type": "code",
   "execution_count": 30,
   "id": "57b5d7ab",
   "metadata": {
    "execution": {
     "iopub.execute_input": "2025-01-03T20:14:14.409416Z",
     "iopub.status.busy": "2025-01-03T20:14:14.409087Z",
     "iopub.status.idle": "2025-01-03T20:14:14.418095Z",
     "shell.execute_reply": "2025-01-03T20:14:14.417205Z"
    },
    "papermill": {
     "duration": 0.014855,
     "end_time": "2025-01-03T20:14:14.419568",
     "exception": false,
     "start_time": "2025-01-03T20:14:14.404713",
     "status": "completed"
    },
    "tags": []
   },
   "outputs": [],
   "source": [
    "drop_columns(df, ['list-view-price', 'celly', 'celly 2', 'celly 3', 'celly 4', 'list-view-location'])"
   ]
  },
  {
   "cell_type": "code",
   "execution_count": 31,
   "id": "00ee13a2",
   "metadata": {
    "execution": {
     "iopub.execute_input": "2025-01-03T20:14:14.428179Z",
     "iopub.status.busy": "2025-01-03T20:14:14.427806Z",
     "iopub.status.idle": "2025-01-03T20:14:14.438005Z",
     "shell.execute_reply": "2025-01-03T20:14:14.436775Z"
    },
    "papermill": {
     "duration": 0.016269,
     "end_time": "2025-01-03T20:14:14.439637",
     "exception": false,
     "start_time": "2025-01-03T20:14:14.423368",
     "status": "completed"
    },
    "tags": []
   },
   "outputs": [
    {
     "name": "stdout",
     "output_type": "stream",
     "text": [
      "<class 'pandas.core.frame.DataFrame'>\n",
      "Index: 1301 entries, 0 to 1302\n",
      "Data columns (total 8 columns):\n",
      " #   Column        Non-Null Count  Dtype \n",
      "---  ------        --------------  ----- \n",
      " 0   price         1301 non-null   int64 \n",
      " 1   room          1301 non-null   int64 \n",
      " 2   living_room   1301 non-null   int64 \n",
      " 3   area          1301 non-null   int64 \n",
      " 4   age           1301 non-null   int64 \n",
      " 5   floor         1301 non-null   object\n",
      " 6   district      1301 non-null   object\n",
      " 7   neighborhood  1301 non-null   object\n",
      "dtypes: int64(5), object(3)\n",
      "memory usage: 91.5+ KB\n"
     ]
    }
   ],
   "source": [
    "df.info()"
   ]
  },
  {
   "cell_type": "code",
   "execution_count": 32,
   "id": "73094c9b",
   "metadata": {
    "execution": {
     "iopub.execute_input": "2025-01-03T20:14:14.448242Z",
     "iopub.status.busy": "2025-01-03T20:14:14.447887Z",
     "iopub.status.idle": "2025-01-03T20:14:14.457736Z",
     "shell.execute_reply": "2025-01-03T20:14:14.456915Z"
    },
    "papermill": {
     "duration": 0.016056,
     "end_time": "2025-01-03T20:14:14.459512",
     "exception": false,
     "start_time": "2025-01-03T20:14:14.443456",
     "status": "completed"
    },
    "tags": []
   },
   "outputs": [],
   "source": [
    "df.to_csv('./data/cleaned_data.csv', index=False)"
   ]
  }
 ],
 "metadata": {
  "kaggle": {
   "accelerator": "none",
   "dataSources": [
    {
     "datasetId": 6420191,
     "sourceId": 10365592,
     "sourceType": "datasetVersion"
    }
   ],
   "dockerImageVersionId": 30822,
   "isGpuEnabled": false,
   "isInternetEnabled": true,
   "language": "python",
   "sourceType": "notebook"
  },
  "kernelspec": {
   "display_name": ".venv",
   "language": "python",
   "name": "python3"
  },
  "language_info": {
   "codemirror_mode": {
    "name": "ipython",
    "version": 3
   },
   "file_extension": ".py",
   "mimetype": "text/x-python",
   "name": "python",
   "nbconvert_exporter": "python",
   "pygments_lexer": "ipython3",
   "version": "3.13.1"
  },
  "papermill": {
   "default_parameters": {},
   "duration": 3.304007,
   "end_time": "2025-01-03T20:14:14.983637",
   "environment_variables": {},
   "exception": null,
   "input_path": "__notebook__.ipynb",
   "output_path": "__notebook__.ipynb",
   "parameters": {},
   "start_time": "2025-01-03T20:14:11.679630",
   "version": "2.6.0"
  }
 },
 "nbformat": 4,
 "nbformat_minor": 5
}
